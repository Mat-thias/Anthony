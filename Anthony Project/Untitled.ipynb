{
 "cells": [
  {
   "cell_type": "code",
   "execution_count": 3,
   "id": "10abdf02",
   "metadata": {},
   "outputs": [],
   "source": [
    "import cv2\n",
    "import numpy as np\n",
    "from keras.models import load_model\n",
    "from keras.utils import img_to_array"
   ]
  },
  {
   "cell_type": "code",
   "execution_count": 5,
   "id": "91e07615",
   "metadata": {},
   "outputs": [],
   "source": [
    "## Loading model using the loacation where the model is saved\n",
    "model = load_model('./explo_model.h5')"
   ]
  },
  {
   "cell_type": "code",
   "execution_count": 44,
   "id": "b1ab87e5",
   "metadata": {},
   "outputs": [],
   "source": [
    "## definig prediction model\n",
    "def get_prediction(img):\n",
    "    for_pred = cv2.resize(img,(64,64))\n",
    "    for_pred = cv2.cvtColor(for_pred, cv2.COLOR_BGR2GRAY)\n",
    "    x = img_to_array(for_pred)\n",
    "    x = x/255.0\n",
    "    x = x.reshape((1,) + x.shape)\n",
    "    gesture = np.argmax(model.predict(x))\n",
    "    return gesture"
   ]
  },
  {
   "cell_type": "code",
   "execution_count": 45,
   "id": "efb253a0",
   "metadata": {},
   "outputs": [
    {
     "name": "stdout",
     "output_type": "stream",
     "text": [
      "1/1 [==============================] - 0s 109ms/step\n"
     ]
    },
    {
     "data": {
      "text/plain": [
       "((50, 50, 3), 14)"
      ]
     },
     "execution_count": 45,
     "metadata": {},
     "output_type": "execute_result"
    }
   ],
   "source": [
    "img = cv2.imread(\"6.jpg\")\n",
    "img.shape, get_prediction(img)"
   ]
  },
  {
   "cell_type": "code",
   "execution_count": 54,
   "id": "98e04e9c",
   "metadata": {},
   "outputs": [],
   "source": [
    "def main():\n",
    "    # get image\n",
    "    \n",
    "    gesture = get_prediction(img)\n",
    "    actuate_dict[gessture[1]()]"
   ]
  },
  {
   "cell_type": "code",
   "execution_count": 53,
   "id": "fbed9460",
   "metadata": {},
   "outputs": [
    {
     "ename": "NameError",
     "evalue": "name 'GPIO' is not defined",
     "output_type": "error",
     "traceback": [
      "\u001b[1;31m---------------------------------------------------------------------------\u001b[0m",
      "\u001b[1;31mNameError\u001b[0m                                 Traceback (most recent call last)",
      "\u001b[1;32m~\\AppData\\Local\\Temp\\ipykernel_12472\\2697022113.py\u001b[0m in \u001b[0;36m<module>\u001b[1;34m\u001b[0m\n\u001b[0;32m      3\u001b[0m \u001b[1;33m\u001b[0m\u001b[0m\n\u001b[0;32m      4\u001b[0m \u001b[1;31m# Set the pins that are to be controlled as outputs\u001b[0m\u001b[1;33m\u001b[0m\u001b[1;33m\u001b[0m\u001b[0m\n\u001b[1;32m----> 5\u001b[1;33m \u001b[0mGPIO\u001b[0m\u001b[1;33m.\u001b[0m\u001b[0msetup\u001b[0m\u001b[1;33m(\u001b[0m\u001b[1;36m6\u001b[0m\u001b[1;33m,\u001b[0m \u001b[0mGPIO\u001b[0m\u001b[1;33m.\u001b[0m\u001b[0mOUT\u001b[0m\u001b[1;33m)\u001b[0m\u001b[1;33m\u001b[0m\u001b[1;33m\u001b[0m\u001b[0m\n\u001b[0m\u001b[0;32m      6\u001b[0m \u001b[0mGPIO\u001b[0m\u001b[1;33m.\u001b[0m\u001b[0msetup\u001b[0m\u001b[1;33m(\u001b[0m\u001b[1;36m12\u001b[0m\u001b[1;33m,\u001b[0m \u001b[0mGPIO\u001b[0m\u001b[1;33m.\u001b[0m\u001b[0mOUT\u001b[0m\u001b[1;33m)\u001b[0m\u001b[1;33m\u001b[0m\u001b[1;33m\u001b[0m\u001b[0m\n\u001b[0;32m      7\u001b[0m \u001b[0mGPIO\u001b[0m\u001b[1;33m.\u001b[0m\u001b[0msetup\u001b[0m\u001b[1;33m(\u001b[0m\u001b[1;36m13\u001b[0m\u001b[1;33m,\u001b[0m \u001b[0mGPIO\u001b[0m\u001b[1;33m.\u001b[0m\u001b[0mOUT\u001b[0m\u001b[1;33m)\u001b[0m\u001b[1;33m\u001b[0m\u001b[1;33m\u001b[0m\u001b[0m\n",
      "\u001b[1;31mNameError\u001b[0m: name 'GPIO' is not defined"
     ]
    }
   ],
   "source": [
    "# set the GPIO mode\n",
    "# GPIO.setmode(GPIO.BCM)\n",
    "\n",
    "# Set the pins that are to be controlled as outputs\n",
    "GPIO.setup(6, GPIO.OUT)\n",
    "GPIO.setup(12, GPIO.OUT)\n",
    "GPIO.setup(13, GPIO.OUT)\n",
    "GPIO.setup(16, GPIO.OUT)\n",
    "GPIO.setup(19, GPIO.OUT)\n",
    "GPIO.setup(20, GPIO.OUT)\n",
    "GPIO.setup(21, GPIO.OUT)\n",
    "GPIO.setup(26, GPIO.OUT)\n",
    "\n",
    "label = ['0','1','+','-','*','/','Confirm','**','%','Clear','2','3','4','5','6','7','8','9']\n",
    "#label = ['0','1','2','3','4','5','6','7','8','9','+','-','*','/','Confirm','**','%','Clear']\n",
    "turn_on_socket_1 = lambda: GPIO.output(6, HIGH)\n",
    "turn_off_socket_1 = lambda: GPIO.output(6, LOW)\n",
    "\n",
    "turn_on_socket_2 = lambda: GPIO.output(12, HIGH)\n",
    "turn_off_socket_2 = lambda: GPIO.output(12, LOW)\n",
    "\n",
    "turn_on_socket_3 = lambda: GPIO.output(13, HIGH)\n",
    "turn_off_socket_3 = lambda: GPIO.output(13, LOW)\n",
    "\n",
    "turn_on_socket_4 = lambda: GPIO.output(16, HIGH)\n",
    "turn_off_socket_4 = lambda: GPIO.output(16, LOW)\n",
    "\n",
    "turn_on_socket_5 = lambda: GPIO.output(19, HIGH)\n",
    "turn_off_socket_5 = lambda: GPIO.output(19, LOW)\n",
    "\n",
    "turn_on_socket_6 = lambda: GPIO.output(20, HIGH)\n",
    "turn_off_socket_6 = lambda: GPIO.output(20, LOW)\n",
    "\n",
    "turn_on_socket_7 = lambda: GPIO.output(21, HIGH)\n",
    "turn_off_socket_7 = lambda: GPIO.output(21, LOW)\n",
    "\n",
    "turn_on_socket_8 = lambda: GPIO.output(26, HIGH)\n",
    "turn_off_socket_8 = lambda: GPIO.output(26, LOW)\n",
    "\n",
    "print_confirm = lambda: None\n",
    "clear_screen = lambda: None\n",
    "\n",
    "\n",
    "\n",
    "actuate_dict = {\n",
    "    0 : (\"0\", turn_on_socket_1), 1 : (\"1\", turn_off_socket_1), \n",
    "    2 : (\"2\", turn_on_socket_2), 3 : (\"3\", turn_off_socket_2),\n",
    "    4 : (\"4\", turn_on_socket_3), 5 : (\"5\", turn_off_socket_3), \n",
    "    6 : (\"6\", turn_on_socket_4), 7 : (\"7\", turn_off_socket_4),\n",
    "    8 : (\"8\", turn_on_socket_5), 9 : (\"9\", turn_off_socket_5), \n",
    "    10 : (\"10\", turn_on_socket_6), 11 : (\"11\", turn_off_socket_6),\n",
    "    12 : (\"12\", turn_on_socket_7), 13 : (\"13\", turn_off_socket_7), \n",
    "    14 : (\"14\", print_confirm), 15 : (\"15\", turn_on_socket_8),\n",
    "    16 : (\"16\", turn_off_socket_8), 17 : (\"17\", clear_screen),\n",
    "}"
   ]
  },
  {
   "cell_type": "code",
   "execution_count": 56,
   "id": "92566dcb",
   "metadata": {},
   "outputs": [
    {
     "ename": "ModuleNotFoundError",
     "evalue": "No module named 'picamera'",
     "output_type": "error",
     "traceback": [
      "\u001b[1;31m---------------------------------------------------------------------------\u001b[0m",
      "\u001b[1;31mModuleNotFoundError\u001b[0m                       Traceback (most recent call last)",
      "\u001b[1;32m~\\AppData\\Local\\Temp\\ipykernel_12472\\3073139961.py\u001b[0m in \u001b[0;36m<module>\u001b[1;34m\u001b[0m\n\u001b[1;32m----> 1\u001b[1;33m \u001b[1;32mimport\u001b[0m \u001b[0mpicamera\u001b[0m\u001b[1;33m\u001b[0m\u001b[1;33m\u001b[0m\u001b[0m\n\u001b[0m\u001b[0;32m      2\u001b[0m \u001b[1;32mimport\u001b[0m \u001b[0mtime\u001b[0m\u001b[1;33m\u001b[0m\u001b[1;33m\u001b[0m\u001b[0m\n\u001b[0;32m      3\u001b[0m \u001b[1;32mfrom\u001b[0m \u001b[0mpicamera\u001b[0m\u001b[1;33m.\u001b[0m\u001b[0marray\u001b[0m \u001b[1;32mimport\u001b[0m \u001b[0mPiRGBArray\u001b[0m\u001b[1;33m\u001b[0m\u001b[1;33m\u001b[0m\u001b[0m\n\u001b[0;32m      4\u001b[0m \u001b[1;32mimport\u001b[0m \u001b[0mcv2\u001b[0m\u001b[1;33m\u001b[0m\u001b[1;33m\u001b[0m\u001b[0m\n\u001b[0;32m      5\u001b[0m \u001b[1;33m\u001b[0m\u001b[0m\n",
      "\u001b[1;31mModuleNotFoundError\u001b[0m: No module named 'picamera'"
     ]
    }
   ],
   "source": [
    "import picamera\n",
    "import time\n",
    "from picamera.array import PiRGBArray\n",
    "import cv2\n",
    "\n",
    "# initialize the camera\n",
    "camera = picamera.PiCamera()\n",
    "camera.resolution = (640, 480)\n",
    "camera.framerate = 32\n",
    "rawCapture = PiRGBArray(camera, size=(640, 480))\n",
    "\n",
    "# allow the camera to warmup\n",
    "time.sleep(0.1)\n",
    "\n",
    "# capture frames from the camera\n",
    "for frame in camera.capture_continuous(rawCapture, format=\"bgr\", use_video_port=True):\n",
    "    # grab the raw NumPy array representing the image\n",
    "    image = frame.array\n",
    "    \n",
    "    # do some image processing\n",
    "    gray = cv2.cvtColor(image, cv2.COLOR_BGR2GRAY)\n",
    "    \n",
    "    # show the processed image\n",
    "    cv2.imshow(\"Frame\", gray)\n",
    "    key = cv2.waitKey(1) & 0xFF\n",
    "    \n",
    "    # clear the stream in preparation for the next frame\n",
    "    rawCapture.truncate(0)\n",
    "    \n",
    "    # if the `q` key was pressed, break from the loop\n",
    "    if key == ord(\"q\"):\n",
    "        break\n",
    "\n",
    "# cleanup\n",
    "cv2.destroyAllWindows()\n"
   ]
  },
  {
   "cell_type": "code",
   "execution_count": 55,
   "id": "54d19646",
   "metadata": {},
   "outputs": [],
   "source": [
    "def turn_on_socket_1(): GPIO.output(6, HIGH)\n",
    "\n",
    "def turn_off_socket_1(): GPIO.output(6, LOW)\n",
    "\n",
    "def turn_on_socket_2(): GPIO.output(12, HIGH)\n",
    "\n",
    "def turn_off_socket_2(): GPIO.output(12, LOW)\n",
    "\n",
    "def turn_on_socket_3(): GPIO.output(13, HIGH)\n",
    "\n",
    "def turn_off_socket_3(): GPIO.output(13, LOW)\n",
    "\n",
    "def turn_on_socket_4(): GPIO.output(16, HIGH)\n",
    "\n",
    "def turn_off_socket_4(): GPIO.output(16, LOW)\n",
    "\n",
    "def turn_on_socket_5(): GPIO.output(19, HIGH)\n",
    "\n",
    "def turn_off_socket_5(): GPIO.output(19, LOW)\n",
    "\n",
    "def turn_on_socket_6(): GPIO.output(20, HIGH)\n",
    "\n",
    "def turn_off_socket_6(): GPIO.output(20, LOW)\n",
    "\n",
    "def turn_on_socket_7(): GPIO.output(21, HIGH)\n",
    "\n",
    "def turn_off_socket_7(): GPIO.output(21, LOW)\n",
    "\n",
    "def turn_on_socket_8(): GPIO.output(26, HIGH)\n",
    "    \n",
    "def turn_off_socket_8(): GPIO.output(26, LOW)\n",
    "\n",
    "def print_confirm(): pass\n",
    "\n",
    "def clear_screen(): pass"
   ]
  },
  {
   "cell_type": "code",
   "execution_count": null,
   "id": "68349da8",
   "metadata": {},
   "outputs": [],
   "source": []
  }
 ],
 "metadata": {
  "kernelspec": {
   "display_name": "Python 3 (ipykernel)",
   "language": "python",
   "name": "python3"
  },
  "language_info": {
   "codemirror_mode": {
    "name": "ipython",
    "version": 3
   },
   "file_extension": ".py",
   "mimetype": "text/x-python",
   "name": "python",
   "nbconvert_exporter": "python",
   "pygments_lexer": "ipython3",
   "version": "3.9.13"
  }
 },
 "nbformat": 4,
 "nbformat_minor": 5
}
